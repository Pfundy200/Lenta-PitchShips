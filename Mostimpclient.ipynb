{
  "nbformat": 4,
  "nbformat_minor": 0,
  "metadata": {
    "colab": {
      "name": "Mostimpclient.ipynb",
      "provenance": [],
      "collapsed_sections": []
    },
    "kernelspec": {
      "name": "python3",
      "display_name": "Python 3"
    }
  },
  "cells": [
    {
      "cell_type": "code",
      "metadata": {
        "id": "1slCHEajlEc7"
      },
      "source": [
        "#Run in order"
      ],
      "execution_count": null,
      "outputs": []
    },
    {
      "cell_type": "code",
      "metadata": {
        "id": "NJktIaPo2p0T",
        "outputId": "bde52d8c-7171-47df-e6db-0e8f31f5156b",
        "colab": {
          "base_uri": "https://localhost:8080/",
          "height": 34
        }
      },
      "source": [
        "from google.colab import drive\n",
        "drive.mount('/content/drive')"
      ],
      "execution_count": null,
      "outputs": [
        {
          "output_type": "stream",
          "text": [
            "Drive already mounted at /content/drive; to attempt to forcibly remount, call drive.mount(\"/content/drive\", force_remount=True).\n"
          ],
          "name": "stdout"
        }
      ]
    },
    {
      "cell_type": "code",
      "metadata": {
        "id": "t9RHwsnQ2tZA"
      },
      "source": [
        "import pandas as pd\n",
        "import os\n",
        "import numpy as np\n",
        "import random as rd\n",
        "os.environ[\"CUDA_VISIBLE_DEVICES\"] = \"0\""
      ],
      "execution_count": null,
      "outputs": []
    },
    {
      "cell_type": "code",
      "metadata": {
        "id": "bB6TccUR25BS",
        "outputId": "6cbc2b15-3b35-45a6-e676-0d44e0f7ecad",
        "colab": {
          "base_uri": "https://localhost:8080/",
          "height": 51
        }
      },
      "source": [
        "!!pip3 install -U pyarrow"
      ],
      "execution_count": null,
      "outputs": [
        {
          "output_type": "execute_result",
          "data": {
            "text/plain": [
              "['Requirement already up-to-date: pyarrow in /usr/local/lib/python3.6/dist-packages (1.0.1)',\n",
              " 'Requirement already satisfied, skipping upgrade: numpy>=1.14 in /usr/local/lib/python3.6/dist-packages (from pyarrow) (1.18.5)']"
            ]
          },
          "metadata": {
            "tags": []
          },
          "execution_count": 6
        }
      ]
    },
    {
      "cell_type": "code",
      "metadata": {
        "id": "hOW1N0VJ27l9"
      },
      "source": [
        "import pyarrow\n",
        "import pyarrow.parquet as pq"
      ],
      "execution_count": null,
      "outputs": []
    },
    {
      "cell_type": "code",
      "metadata": {
        "id": "wH_Ot5e63CMc"
      },
      "source": [
        "data_path = \"/content/drive/My Drive/hack_data\"\n",
        "transactions_path = f\"{data_path}/transactions.csv\"\n",
        "clients_path = f\"{data_path}/clients.csv\"\n",
        "materials_path = f\"{data_path}/materials.csv\"\n",
        "plants_path = f\"{data_path}/plants.csv\""
      ],
      "execution_count": null,
      "outputs": []
    },
    {
      "cell_type": "code",
      "metadata": {
        "id": "eYoGE4QYjsCx"
      },
      "source": [
        "transactions_data = pd.read_csv(transactions_path)\n",
        "clients_data = pd.read_csv(clients_path)\n",
        "materials_data = pd.read_csv(materials_path)\n",
        "plants_data = pd.read_csv(plants_path)"
      ],
      "execution_count": null,
      "outputs": []
    },
    {
      "cell_type": "code",
      "metadata": {
        "id": "dInbWUtJoQ1_"
      },
      "source": [
        "transactions_data"
      ],
      "execution_count": null,
      "outputs": []
    },
    {
      "cell_type": "code",
      "metadata": {
        "id": "lyd1oBwd6-P-"
      },
      "source": [
        "clientmat_count = transactions_data.loc[:,['client_id','material','sales_count']]\n",
        "clientmat_count "
      ],
      "execution_count": null,
      "outputs": []
    },
    {
      "cell_type": "code",
      "metadata": {
        "id": "2YzQVhrN2hEB"
      },
      "source": [
        "a=clientmat_count.groupby(['material']).size()\n",
        "a= a.sort_values(ascending=False)\n",
        "a= a.head(10)\n",
        "a \n",
        "#Most popular items among all clients"
      ],
      "execution_count": null,
      "outputs": []
    },
    {
      "cell_type": "code",
      "metadata": {
        "id": "J_9sXr5I3yJd"
      },
      "source": [
        "b=clientmat_count.groupby(['client_id']).size()\n",
        "b=b.sort_values(ascending=False) \n",
        "b\n",
        "#Frequent clients in descending order"
      ],
      "execution_count": null,
      "outputs": []
    },
    {
      "cell_type": "code",
      "metadata": {
        "id": "lxwjrr-ynl-G"
      },
      "source": [
        "import seaborn as sns\n",
        "sns.displot(b)"
      ],
      "execution_count": null,
      "outputs": []
    },
    {
      "cell_type": "code",
      "metadata": {
        "id": "WN2cfVHFiGxn"
      },
      "source": [
        "b[0] #The most important client"
      ],
      "execution_count": null,
      "outputs": []
    },
    {
      "cell_type": "code",
      "metadata": {
        "id": "kWnHNTKp_a37"
      },
      "source": [
        "clientmat_times = transactions_data.loc[:,['client_id','material','sales_count']]\n",
        "clienttimes = clientmat_times.groupby(['client_id']).count()\n",
        "clienttimes.sort_values(by='material')\n",
        "#Not imp"
      ],
      "execution_count": null,
      "outputs": []
    },
    {
      "cell_type": "code",
      "metadata": {
        "id": "bkY2YCWrQA2r"
      },
      "source": [
        "client_date = transactions_data.loc[:,['client_id','chq_date']]\n",
        "#Not Imp\n"
      ],
      "execution_count": null,
      "outputs": []
    },
    {
      "cell_type": "code",
      "metadata": {
        "id": "x5Ac71B9jGrM"
      },
      "source": [
        "x=client_date.chq_date.nunique(dropna=True)  #366 days from 04-10-16 to 04-10-17\n",
        "x #Not Imp"
      ],
      "execution_count": null,
      "outputs": []
    },
    {
      "cell_type": "code",
      "metadata": {
        "id": "MnyK9so7k9nz"
      },
      "source": [
        "y=client_date.client_id.nunique(dropna=True) #100,000 clients\n",
        "y #Not Imp"
      ],
      "execution_count": null,
      "outputs": []
    },
    {
      "cell_type": "code",
      "metadata": {
        "id": "n54FLpmnEJl0"
      },
      "source": [
        "Important_Clients = b.apply(lambda x:x==b[0])\n",
        "Important_Clients[Important_Clients] \n",
        "#b[i] gives the most important client in descending order. If b[0] then the client is the most important, b[1] second most important, and so on"
      ],
      "execution_count": null,
      "outputs": []
    },
    {
      "cell_type": "code",
      "metadata": {
        "id": "huSeo0-cKxXs"
      },
      "source": [
        "#Transcation data for the b[i] client, where b[0] is the most important"
      ],
      "execution_count": null,
      "outputs": []
    },
    {
      "cell_type": "code",
      "metadata": {
        "id": "KCzLiHxoMB4w"
      },
      "source": [
        "Td =  transactions_data.loc[:,['client_id','material','chq_date','sales_count','sales_sum']]\n",
        "Td = Td[Td['client_id'].isin(Important_Clients[Important_Clients].index)]\n",
        "Td = Td.groupby(['chq_date','material']).sum() #Chq_date->Materials bought\n",
        "Td"
      ],
      "execution_count": null,
      "outputs": []
    },
    {
      "cell_type": "code",
      "metadata": {
        "id": "Dz2-UAx5QQvi"
      },
      "source": [
        "Td =  transactions_data.loc[:,['client_id','material','chq_date','sales_count','sales_sum']]\n",
        "Td = Td[Td['client_id'].isin(Important_Clients[Important_Clients].index)]\n",
        "Td = Td.groupby(['material']).sum()\n",
        "FG =Td.sort_values(by='sales_count',ascending=False) # Most material bought by the b[i] client\n",
        "FG"
      ],
      "execution_count": null,
      "outputs": []
    },
    {
      "cell_type": "code",
      "metadata": {
        "id": "73yeJKrv_mPq"
      },
      "source": [
        "FG= FG.iloc[:,0]\n",
        "sns.distplot(FG) #For all material he has bought items like this"
      ],
      "execution_count": null,
      "outputs": []
    },
    {
      "cell_type": "code",
      "metadata": {
        "id": "QIiCSDBlf2em"
      },
      "source": [
        "FG = Td.sort_values(by='sales_sum',ascending=False) #Items that cost the most\n",
        "FG"
      ],
      "execution_count": null,
      "outputs": []
    },
    {
      "cell_type": "code",
      "metadata": {
        "id": "guOFjkVr_tWq"
      },
      "source": [
        "FG= FG.iloc[:,1]\n",
        "sns.distplot(FG) #For all materials the most important has spent money like this"
      ],
      "execution_count": null,
      "outputs": []
    },
    {
      "cell_type": "code",
      "metadata": {
        "id": "mTTMBSP0dxCA"
      },
      "source": [
        "Td =  transactions_data.loc[:,['client_id','material','chq_date','sales_count','sales_sum']]\n",
        "Td = Td[Td['client_id'].isin(Important_Clients[Important_Clients].index)]\n",
        "Td = Td.groupby(['chq_date']).sum()\n",
        "FG = Td.sort_values(by='sales_count',ascending=False) #dates on which he bought the most items\n",
        "FG"
      ],
      "execution_count": null,
      "outputs": []
    },
    {
      "cell_type": "code",
      "metadata": {
        "id": "ABdS9Ng9_2wV"
      },
      "source": [
        "FG= FG.iloc[:,0] #For all dates the most important client has bought items like this:\n",
        "sns.distplot(FG)"
      ],
      "execution_count": null,
      "outputs": []
    },
    {
      "cell_type": "code",
      "metadata": {
        "id": "2yAMAqsXf-SQ"
      },
      "source": [
        "FG = Td.sort_values(by='sales_sum',ascending=False) #dates on which he spent the most\n",
        "FG"
      ],
      "execution_count": null,
      "outputs": []
    },
    {
      "cell_type": "code",
      "metadata": {
        "id": "QAbTYmSo_-IB"
      },
      "source": [
        "FG= FG.iloc[:,1]\n",
        "sns.distplot(FG) #For all dates the most important client has spent money like this:"
      ],
      "execution_count": null,
      "outputs": []
    }
  ]
}